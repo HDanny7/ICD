{
 "cells": [
  {
   "cell_type": "code",
   "execution_count": 1,
   "metadata": {},
   "outputs": [],
   "source": [
    "import pandas as pd\n",
    "import numpy as np\n",
    "import seaborn as sns\n",
    "import matplotlib.pyplot as plt"
   ]
  },
  {
   "cell_type": "code",
   "execution_count": 2,
   "metadata": {},
   "outputs": [
    {
     "data": {
      "text/html": [
       "<div>\n",
       "<style scoped>\n",
       "    .dataframe tbody tr th:only-of-type {\n",
       "        vertical-align: middle;\n",
       "    }\n",
       "\n",
       "    .dataframe tbody tr th {\n",
       "        vertical-align: top;\n",
       "    }\n",
       "\n",
       "    .dataframe thead th {\n",
       "        text-align: right;\n",
       "    }\n",
       "</style>\n",
       "<table border=\"1\" class=\"dataframe\">\n",
       "  <thead>\n",
       "    <tr style=\"text-align: right;\">\n",
       "      <th></th>\n",
       "      <th>Codigo</th>\n",
       "      <th>Ciudad</th>\n",
       "      <th>Departamento</th>\n",
       "      <th>Barrio</th>\n",
       "      <th>Direccion</th>\n",
       "      <th>Area Terreno</th>\n",
       "      <th>Area Construida</th>\n",
       "      <th>Detalle Disponibilidad</th>\n",
       "      <th>Estrato</th>\n",
       "      <th>Precio</th>\n",
       "      <th>Tipo de Inmueble</th>\n",
       "      <th>Datos Adicionales</th>\n",
       "    </tr>\n",
       "  </thead>\n",
       "  <tbody>\n",
       "    <tr>\n",
       "      <th>0</th>\n",
       "      <td>17180</td>\n",
       "      <td>BOGOTA</td>\n",
       "      <td>CUNDINAMARCA</td>\n",
       "      <td>NaN</td>\n",
       "      <td>AV CR 7 NO. 166 - 51 LT B</td>\n",
       "      <td>0.00</td>\n",
       "      <td>0.0</td>\n",
       "      <td>COMERCIALIZABLE CON RESTRICCION</td>\n",
       "      <td>TRES</td>\n",
       "      <td>2.958081e+10</td>\n",
       "      <td>LOTE COMERCIAL</td>\n",
       "      <td>ESTE INMUEBLE SE COMERCIALIZARÁ A TRAVES DE SU...</td>\n",
       "    </tr>\n",
       "    <tr>\n",
       "      <th>1</th>\n",
       "      <td>19292</td>\n",
       "      <td>BOGOTA</td>\n",
       "      <td>CUNDINAMARCA</td>\n",
       "      <td>NaN</td>\n",
       "      <td>CL 72 No. 12 - 77</td>\n",
       "      <td>0.00</td>\n",
       "      <td>0.0</td>\n",
       "      <td>COMERCIALIZABLE</td>\n",
       "      <td>COMERCIAL</td>\n",
       "      <td>1.646059e+10</td>\n",
       "      <td>EDIFICIO</td>\n",
       "      <td>NaN</td>\n",
       "    </tr>\n",
       "    <tr>\n",
       "      <th>2</th>\n",
       "      <td>19292</td>\n",
       "      <td>BOGOTA</td>\n",
       "      <td>CUNDINAMARCA</td>\n",
       "      <td>NaN</td>\n",
       "      <td>CL 72 No. 12 - 77</td>\n",
       "      <td>0.00</td>\n",
       "      <td>0.0</td>\n",
       "      <td>COMERCIALIZABLE VENTA ANTICIPADA</td>\n",
       "      <td>COMERCIAL</td>\n",
       "      <td>1.646059e+10</td>\n",
       "      <td>EDIFICIO</td>\n",
       "      <td>NaN</td>\n",
       "    </tr>\n",
       "    <tr>\n",
       "      <th>3</th>\n",
       "      <td>2575</td>\n",
       "      <td>SOGAMOSO</td>\n",
       "      <td>BOYACÁ</td>\n",
       "      <td>CENTRO</td>\n",
       "      <td>CRA. 10 #11- 78/80 Ó CL 12 # 9 - 77/85 Ó CALLE...</td>\n",
       "      <td>1655.08</td>\n",
       "      <td>7269.0</td>\n",
       "      <td>COMERCIALIZABLE CON RESTRICCION</td>\n",
       "      <td>CUATRO</td>\n",
       "      <td>1.376828e+10</td>\n",
       "      <td>CLINICA</td>\n",
       "      <td>ESTE INMUEBLE SE COMERCIALIZARÁ A TRAVÉS DE SU...</td>\n",
       "    </tr>\n",
       "    <tr>\n",
       "      <th>4</th>\n",
       "      <td>11409</td>\n",
       "      <td>BUGA</td>\n",
       "      <td>VALLE DEL CAUCA</td>\n",
       "      <td>VEREDA CHAMBIMBAL</td>\n",
       "      <td>LT A1-A24 B1-B79 C1-C51 D1-D9 STA ROSA LT1-46 ...</td>\n",
       "      <td>3217197.00</td>\n",
       "      <td>22724.0</td>\n",
       "      <td>COMERCIALIZABLE FIDUCIA</td>\n",
       "      <td>RURAL</td>\n",
       "      <td>4.523379e+10</td>\n",
       "      <td>LOTE MIXTO</td>\n",
       "      <td>NaN</td>\n",
       "    </tr>\n",
       "    <tr>\n",
       "      <th>...</th>\n",
       "      <td>...</td>\n",
       "      <td>...</td>\n",
       "      <td>...</td>\n",
       "      <td>...</td>\n",
       "      <td>...</td>\n",
       "      <td>...</td>\n",
       "      <td>...</td>\n",
       "      <td>...</td>\n",
       "      <td>...</td>\n",
       "      <td>...</td>\n",
       "      <td>...</td>\n",
       "      <td>...</td>\n",
       "    </tr>\n",
       "    <tr>\n",
       "      <th>458</th>\n",
       "      <td>12709</td>\n",
       "      <td>CALI</td>\n",
       "      <td>VALLE DEL CAUCA</td>\n",
       "      <td>PRADOS DEL NORTE</td>\n",
       "      <td>CL 30N #  2B-38 LOCAL 562  CENTRO COMERCIAL SA...</td>\n",
       "      <td>0.00</td>\n",
       "      <td>0.0</td>\n",
       "      <td>COMERCIALIZABLE CON RESTRICCION</td>\n",
       "      <td>CUATRO</td>\n",
       "      <td>2.960534e+07</td>\n",
       "      <td>LOCAL</td>\n",
       "      <td>¡OPORTUNIDAD PARA INVERTIR! LOCAL EN PROINDIVI...</td>\n",
       "    </tr>\n",
       "    <tr>\n",
       "      <th>459</th>\n",
       "      <td>17992</td>\n",
       "      <td>BOGOTA</td>\n",
       "      <td>CUNDINAMARCA</td>\n",
       "      <td>NaN</td>\n",
       "      <td>CR 70 NO. 49-77</td>\n",
       "      <td>0.00</td>\n",
       "      <td>0.0</td>\n",
       "      <td>COMERCIALIZABLE CON RESTRICCION</td>\n",
       "      <td>CUATRO</td>\n",
       "      <td>1.448242e+09</td>\n",
       "      <td>CASA</td>\n",
       "      <td>NaN</td>\n",
       "    </tr>\n",
       "    <tr>\n",
       "      <th>460</th>\n",
       "      <td>12708</td>\n",
       "      <td>CALI</td>\n",
       "      <td>VALLE DEL CAUCA</td>\n",
       "      <td>PRADOS DEL NORTE</td>\n",
       "      <td>CL 30N #  2B-38 LOCAL 564 CENTRO COMERCIAL SAN...</td>\n",
       "      <td>0.00</td>\n",
       "      <td>0.0</td>\n",
       "      <td>COMERCIALIZABLE CON RESTRICCION</td>\n",
       "      <td>CUATRO</td>\n",
       "      <td>2.070134e+07</td>\n",
       "      <td>LOCAL</td>\n",
       "      <td>¡OPORTUNIDAD PARA INVERTIR! LOCAL EN PROINDIVI...</td>\n",
       "    </tr>\n",
       "    <tr>\n",
       "      <th>461</th>\n",
       "      <td>12706</td>\n",
       "      <td>CALI</td>\n",
       "      <td>VALLE DEL CAUCA</td>\n",
       "      <td>PRADOS DEL NORTE</td>\n",
       "      <td>CL 30N #  2B-38 LOCAL 367 CENTRO COMERCIAL SAN...</td>\n",
       "      <td>0.00</td>\n",
       "      <td>0.0</td>\n",
       "      <td>COMERCIALIZABLE CON RESTRICCION</td>\n",
       "      <td>CUATRO</td>\n",
       "      <td>2.060800e+07</td>\n",
       "      <td>LOCAL</td>\n",
       "      <td>¡OPORTUNIDAD PARA INVERTIR! LOCAL EN PROINDIVI...</td>\n",
       "    </tr>\n",
       "    <tr>\n",
       "      <th>462</th>\n",
       "      <td>12707</td>\n",
       "      <td>CALI</td>\n",
       "      <td>VALLE DEL CAUCA</td>\n",
       "      <td>PRADOS DEL NORTE</td>\n",
       "      <td>CL 30N #  2B-38 LOCAL 370 CENTRO COMERCIAL SAN...</td>\n",
       "      <td>0.00</td>\n",
       "      <td>0.0</td>\n",
       "      <td>COMERCIALIZABLE CON RESTRICCION</td>\n",
       "      <td>CUATRO</td>\n",
       "      <td>2.060800e+07</td>\n",
       "      <td>LOCAL</td>\n",
       "      <td>¡OPORTUNIDAD PARA INVERTIR! LOCAL EN PROINDIVI...</td>\n",
       "    </tr>\n",
       "  </tbody>\n",
       "</table>\n",
       "<p>463 rows × 12 columns</p>\n",
       "</div>"
      ],
      "text/plain": [
       "     Codigo    Ciudad     Departamento             Barrio  \\\n",
       "0     17180    BOGOTA     CUNDINAMARCA                NaN   \n",
       "1     19292    BOGOTA     CUNDINAMARCA                NaN   \n",
       "2     19292    BOGOTA     CUNDINAMARCA                NaN   \n",
       "3      2575  SOGAMOSO           BOYACÁ             CENTRO   \n",
       "4     11409      BUGA  VALLE DEL CAUCA  VEREDA CHAMBIMBAL   \n",
       "..      ...       ...              ...                ...   \n",
       "458   12709      CALI  VALLE DEL CAUCA   PRADOS DEL NORTE   \n",
       "459   17992    BOGOTA     CUNDINAMARCA                NaN   \n",
       "460   12708      CALI  VALLE DEL CAUCA   PRADOS DEL NORTE   \n",
       "461   12706      CALI  VALLE DEL CAUCA   PRADOS DEL NORTE   \n",
       "462   12707      CALI  VALLE DEL CAUCA   PRADOS DEL NORTE   \n",
       "\n",
       "                                             Direccion  Area Terreno  \\\n",
       "0                            AV CR 7 NO. 166 - 51 LT B          0.00   \n",
       "1                                    CL 72 No. 12 - 77          0.00   \n",
       "2                                    CL 72 No. 12 - 77          0.00   \n",
       "3    CRA. 10 #11- 78/80 Ó CL 12 # 9 - 77/85 Ó CALLE...       1655.08   \n",
       "4    LT A1-A24 B1-B79 C1-C51 D1-D9 STA ROSA LT1-46 ...    3217197.00   \n",
       "..                                                 ...           ...   \n",
       "458  CL 30N #  2B-38 LOCAL 562  CENTRO COMERCIAL SA...          0.00   \n",
       "459                                    CR 70 NO. 49-77          0.00   \n",
       "460  CL 30N #  2B-38 LOCAL 564 CENTRO COMERCIAL SAN...          0.00   \n",
       "461  CL 30N #  2B-38 LOCAL 367 CENTRO COMERCIAL SAN...          0.00   \n",
       "462  CL 30N #  2B-38 LOCAL 370 CENTRO COMERCIAL SAN...          0.00   \n",
       "\n",
       "     Area Construida            Detalle Disponibilidad    Estrato  \\\n",
       "0                0.0   COMERCIALIZABLE CON RESTRICCION       TRES   \n",
       "1                0.0                   COMERCIALIZABLE  COMERCIAL   \n",
       "2                0.0  COMERCIALIZABLE VENTA ANTICIPADA  COMERCIAL   \n",
       "3             7269.0   COMERCIALIZABLE CON RESTRICCION     CUATRO   \n",
       "4            22724.0           COMERCIALIZABLE FIDUCIA      RURAL   \n",
       "..               ...                               ...        ...   \n",
       "458              0.0   COMERCIALIZABLE CON RESTRICCION     CUATRO   \n",
       "459              0.0   COMERCIALIZABLE CON RESTRICCION     CUATRO   \n",
       "460              0.0   COMERCIALIZABLE CON RESTRICCION     CUATRO   \n",
       "461              0.0   COMERCIALIZABLE CON RESTRICCION     CUATRO   \n",
       "462              0.0   COMERCIALIZABLE CON RESTRICCION     CUATRO   \n",
       "\n",
       "           Precio Tipo de Inmueble  \\\n",
       "0    2.958081e+10   LOTE COMERCIAL   \n",
       "1    1.646059e+10         EDIFICIO   \n",
       "2    1.646059e+10         EDIFICIO   \n",
       "3    1.376828e+10          CLINICA   \n",
       "4    4.523379e+10       LOTE MIXTO   \n",
       "..            ...              ...   \n",
       "458  2.960534e+07            LOCAL   \n",
       "459  1.448242e+09             CASA   \n",
       "460  2.070134e+07            LOCAL   \n",
       "461  2.060800e+07            LOCAL   \n",
       "462  2.060800e+07            LOCAL   \n",
       "\n",
       "                                     Datos Adicionales  \n",
       "0    ESTE INMUEBLE SE COMERCIALIZARÁ A TRAVES DE SU...  \n",
       "1                                                  NaN  \n",
       "2                                                  NaN  \n",
       "3    ESTE INMUEBLE SE COMERCIALIZARÁ A TRAVÉS DE SU...  \n",
       "4                                                  NaN  \n",
       "..                                                 ...  \n",
       "458  ¡OPORTUNIDAD PARA INVERTIR! LOCAL EN PROINDIVI...  \n",
       "459                                                NaN  \n",
       "460  ¡OPORTUNIDAD PARA INVERTIR! LOCAL EN PROINDIVI...  \n",
       "461  ¡OPORTUNIDAD PARA INVERTIR! LOCAL EN PROINDIVI...  \n",
       "462  ¡OPORTUNIDAD PARA INVERTIR! LOCAL EN PROINDIVI...  \n",
       "\n",
       "[463 rows x 12 columns]"
      ]
     },
     "execution_count": 2,
     "metadata": {},
     "output_type": "execute_result"
    }
   ],
   "source": [
    "df = pd.read_csv('Data_Caso_Propuesto.csv')\n",
    "df"
   ]
  },
  {
   "cell_type": "markdown",
   "metadata": {},
   "source": [
    "# ¿Como varia el precio de las casas o negocios segun el estrato?"
   ]
  },
  {
   "cell_type": "code",
   "execution_count": 3,
   "metadata": {},
   "outputs": [
    {
     "name": "stdout",
     "output_type": "stream",
     "text": [
      "<class 'pandas.core.frame.DataFrame'>\n",
      "RangeIndex: 463 entries, 0 to 462\n",
      "Data columns (total 12 columns):\n",
      " #   Column                  Non-Null Count  Dtype  \n",
      "---  ------                  --------------  -----  \n",
      " 0   Codigo                  463 non-null    int64  \n",
      " 1   Ciudad                  463 non-null    object \n",
      " 2   Departamento            463 non-null    object \n",
      " 3   Barrio                  40 non-null     object \n",
      " 4   Direccion               463 non-null    object \n",
      " 5   Area Terreno            463 non-null    float64\n",
      " 6   Area Construida         463 non-null    float64\n",
      " 7   Detalle Disponibilidad  463 non-null    object \n",
      " 8   Estrato                 463 non-null    object \n",
      " 9   Precio                  463 non-null    float64\n",
      " 10  Tipo de Inmueble        463 non-null    object \n",
      " 11  Datos Adicionales       118 non-null    object \n",
      "dtypes: float64(3), int64(1), object(8)\n",
      "memory usage: 43.5+ KB\n"
     ]
    }
   ],
   "source": [
    "df.info()"
   ]
  },
  {
   "cell_type": "code",
   "execution_count": 4,
   "metadata": {},
   "outputs": [
    {
     "data": {
      "text/plain": [
       "Codigo                      0\n",
       "Ciudad                      0\n",
       "Departamento                0\n",
       "Barrio                    423\n",
       "Direccion                   0\n",
       "Area Terreno                0\n",
       "Area Construida             0\n",
       "Detalle Disponibilidad      0\n",
       "Estrato                     0\n",
       "Precio                      0\n",
       "Tipo de Inmueble            0\n",
       "Datos Adicionales         345\n",
       "dtype: int64"
      ]
     },
     "execution_count": 4,
     "metadata": {},
     "output_type": "execute_result"
    }
   ],
   "source": [
    "df.isnull().sum()"
   ]
  },
  {
   "cell_type": "code",
   "execution_count": 5,
   "metadata": {},
   "outputs": [],
   "source": [
    "df = df.drop_duplicates()"
   ]
  },
  {
   "cell_type": "code",
   "execution_count": 6,
   "metadata": {},
   "outputs": [
    {
     "name": "stdout",
     "output_type": "stream",
     "text": [
      "<class 'pandas.core.frame.DataFrame'>\n",
      "RangeIndex: 463 entries, 0 to 462\n",
      "Data columns (total 12 columns):\n",
      " #   Column                  Non-Null Count  Dtype  \n",
      "---  ------                  --------------  -----  \n",
      " 0   Codigo                  463 non-null    int64  \n",
      " 1   Ciudad                  463 non-null    object \n",
      " 2   Departamento            463 non-null    object \n",
      " 3   Barrio                  40 non-null     object \n",
      " 4   Direccion               463 non-null    object \n",
      " 5   Area Terreno            463 non-null    float64\n",
      " 6   Area Construida         463 non-null    float64\n",
      " 7   Detalle Disponibilidad  463 non-null    object \n",
      " 8   Estrato                 463 non-null    object \n",
      " 9   Precio                  463 non-null    float64\n",
      " 10  Tipo de Inmueble        463 non-null    object \n",
      " 11  Datos Adicionales       118 non-null    object \n",
      "dtypes: float64(3), int64(1), object(8)\n",
      "memory usage: 43.5+ KB\n"
     ]
    }
   ],
   "source": [
    "df.info()"
   ]
  },
  {
   "cell_type": "code",
   "execution_count": 7,
   "metadata": {},
   "outputs": [
    {
     "data": {
      "text/plain": [
       "np.int64(453)"
      ]
     },
     "execution_count": 7,
     "metadata": {},
     "output_type": "execute_result"
    }
   ],
   "source": [
    "cantidad_valores_cero_areac = (df['Area Construida'] == 0).sum()\n",
    "cantidad_valores_cero_areac"
   ]
  },
  {
   "cell_type": "code",
   "execution_count": 8,
   "metadata": {},
   "outputs": [
    {
     "data": {
      "text/plain": [
       "np.int64(445)"
      ]
     },
     "execution_count": 8,
     "metadata": {},
     "output_type": "execute_result"
    }
   ],
   "source": [
    "cantidad_valores_cero_areat = (df['Area Terreno'] == 0).sum()\n",
    "cantidad_valores_cero_areat"
   ]
  },
  {
   "cell_type": "code",
   "execution_count": 9,
   "metadata": {},
   "outputs": [
    {
     "data": {
      "text/plain": [
       "Estrato\n",
       "COMERCIAL     307\n",
       "RURAL          40\n",
       "UNO            21\n",
       "TRES           19\n",
       "CUATRO         19\n",
       "INDUSTRIAL     16\n",
       "DOS            16\n",
       "SEIS           15\n",
       "CINCO          10\n",
       "Name: count, dtype: int64"
      ]
     },
     "execution_count": 9,
     "metadata": {},
     "output_type": "execute_result"
    }
   ],
   "source": [
    "df['Estrato'].value_counts()"
   ]
  },
  {
   "cell_type": "code",
   "execution_count": 10,
   "metadata": {},
   "outputs": [
    {
     "data": {
      "text/plain": [
       "Detalle Disponibilidad\n",
       "COMERCIALIZABLE                     289\n",
       "COMERCIALIZABLE CON RESTRICCION      83\n",
       "COMERCIALIZABLE TERCEROS             41\n",
       "EN PUJA                              23\n",
       "COMERCIALIZABLE VENTA ANTICIPADA     14\n",
       "COMERCIALIZABLE FIDUCIA              13\n",
       "Name: count, dtype: int64"
      ]
     },
     "execution_count": 10,
     "metadata": {},
     "output_type": "execute_result"
    }
   ],
   "source": [
    "df['Detalle Disponibilidad'].value_counts()"
   ]
  },
  {
   "cell_type": "code",
   "execution_count": 11,
   "metadata": {},
   "outputs": [
    {
     "data": {
      "text/html": [
       "<div>\n",
       "<style scoped>\n",
       "    .dataframe tbody tr th:only-of-type {\n",
       "        vertical-align: middle;\n",
       "    }\n",
       "\n",
       "    .dataframe tbody tr th {\n",
       "        vertical-align: top;\n",
       "    }\n",
       "\n",
       "    .dataframe thead th {\n",
       "        text-align: right;\n",
       "    }\n",
       "</style>\n",
       "<table border=\"1\" class=\"dataframe\">\n",
       "  <thead>\n",
       "    <tr style=\"text-align: right;\">\n",
       "      <th></th>\n",
       "      <th>Codigo</th>\n",
       "      <th>Area Terreno</th>\n",
       "      <th>Area Construida</th>\n",
       "      <th>Precio</th>\n",
       "    </tr>\n",
       "  </thead>\n",
       "  <tbody>\n",
       "    <tr>\n",
       "      <th>count</th>\n",
       "      <td>463.000000</td>\n",
       "      <td>4.630000e+02</td>\n",
       "      <td>463.000000</td>\n",
       "      <td>4.630000e+02</td>\n",
       "    </tr>\n",
       "    <tr>\n",
       "      <th>mean</th>\n",
       "      <td>18003.151188</td>\n",
       "      <td>1.515204e+04</td>\n",
       "      <td>87.517279</td>\n",
       "      <td>6.672032e+08</td>\n",
       "    </tr>\n",
       "    <tr>\n",
       "      <th>std</th>\n",
       "      <td>1992.191499</td>\n",
       "      <td>1.827101e+05</td>\n",
       "      <td>1137.469077</td>\n",
       "      <td>3.272992e+09</td>\n",
       "    </tr>\n",
       "    <tr>\n",
       "      <th>min</th>\n",
       "      <td>2575.000000</td>\n",
       "      <td>0.000000e+00</td>\n",
       "      <td>0.000000</td>\n",
       "      <td>4.650000e+06</td>\n",
       "    </tr>\n",
       "    <tr>\n",
       "      <th>25%</th>\n",
       "      <td>18184.500000</td>\n",
       "      <td>0.000000e+00</td>\n",
       "      <td>0.000000</td>\n",
       "      <td>1.230500e+07</td>\n",
       "    </tr>\n",
       "    <tr>\n",
       "      <th>50%</th>\n",
       "      <td>18332.000000</td>\n",
       "      <td>0.000000e+00</td>\n",
       "      <td>0.000000</td>\n",
       "      <td>1.587000e+07</td>\n",
       "    </tr>\n",
       "    <tr>\n",
       "      <th>75%</th>\n",
       "      <td>18539.500000</td>\n",
       "      <td>0.000000e+00</td>\n",
       "      <td>0.000000</td>\n",
       "      <td>1.379955e+08</td>\n",
       "    </tr>\n",
       "    <tr>\n",
       "      <th>max</th>\n",
       "      <td>19344.000000</td>\n",
       "      <td>3.217197e+06</td>\n",
       "      <td>22724.000000</td>\n",
       "      <td>4.523379e+10</td>\n",
       "    </tr>\n",
       "  </tbody>\n",
       "</table>\n",
       "</div>"
      ],
      "text/plain": [
       "             Codigo  Area Terreno  Area Construida        Precio\n",
       "count    463.000000  4.630000e+02       463.000000  4.630000e+02\n",
       "mean   18003.151188  1.515204e+04        87.517279  6.672032e+08\n",
       "std     1992.191499  1.827101e+05      1137.469077  3.272992e+09\n",
       "min     2575.000000  0.000000e+00         0.000000  4.650000e+06\n",
       "25%    18184.500000  0.000000e+00         0.000000  1.230500e+07\n",
       "50%    18332.000000  0.000000e+00         0.000000  1.587000e+07\n",
       "75%    18539.500000  0.000000e+00         0.000000  1.379955e+08\n",
       "max    19344.000000  3.217197e+06     22724.000000  4.523379e+10"
      ]
     },
     "execution_count": 11,
     "metadata": {},
     "output_type": "execute_result"
    }
   ],
   "source": [
    "df.describe()"
   ]
  },
  {
   "cell_type": "code",
   "execution_count": 12,
   "metadata": {},
   "outputs": [
    {
     "data": {
      "text/html": [
       "<div>\n",
       "<style scoped>\n",
       "    .dataframe tbody tr th:only-of-type {\n",
       "        vertical-align: middle;\n",
       "    }\n",
       "\n",
       "    .dataframe tbody tr th {\n",
       "        vertical-align: top;\n",
       "    }\n",
       "\n",
       "    .dataframe thead th {\n",
       "        text-align: right;\n",
       "    }\n",
       "</style>\n",
       "<table border=\"1\" class=\"dataframe\">\n",
       "  <thead>\n",
       "    <tr style=\"text-align: right;\">\n",
       "      <th></th>\n",
       "      <th>Codigo</th>\n",
       "      <th>Ciudad</th>\n",
       "      <th>Departamento</th>\n",
       "      <th>Barrio</th>\n",
       "      <th>Direccion</th>\n",
       "      <th>Area Terreno</th>\n",
       "      <th>Area Construida</th>\n",
       "      <th>Detalle Disponibilidad</th>\n",
       "      <th>Estrato</th>\n",
       "      <th>Precio</th>\n",
       "      <th>Tipo de Inmueble</th>\n",
       "      <th>Datos Adicionales</th>\n",
       "      <th>Rango_precio</th>\n",
       "    </tr>\n",
       "  </thead>\n",
       "  <tbody>\n",
       "    <tr>\n",
       "      <th>0</th>\n",
       "      <td>17180</td>\n",
       "      <td>BOGOTA</td>\n",
       "      <td>CUNDINAMARCA</td>\n",
       "      <td>NaN</td>\n",
       "      <td>AV CR 7 NO. 166 - 51 LT B</td>\n",
       "      <td>0.00</td>\n",
       "      <td>0.0</td>\n",
       "      <td>COMERCIALIZABLE CON RESTRICCION</td>\n",
       "      <td>TRES</td>\n",
       "      <td>2.958081e+10</td>\n",
       "      <td>LOTE COMERCIAL</td>\n",
       "      <td>ESTE INMUEBLE SE COMERCIALIZARÁ A TRAVES DE SU...</td>\n",
       "      <td>CARO</td>\n",
       "    </tr>\n",
       "    <tr>\n",
       "      <th>1</th>\n",
       "      <td>19292</td>\n",
       "      <td>BOGOTA</td>\n",
       "      <td>CUNDINAMARCA</td>\n",
       "      <td>NaN</td>\n",
       "      <td>CL 72 No. 12 - 77</td>\n",
       "      <td>0.00</td>\n",
       "      <td>0.0</td>\n",
       "      <td>COMERCIALIZABLE</td>\n",
       "      <td>COMERCIAL</td>\n",
       "      <td>1.646059e+10</td>\n",
       "      <td>EDIFICIO</td>\n",
       "      <td>NaN</td>\n",
       "      <td>CARO</td>\n",
       "    </tr>\n",
       "    <tr>\n",
       "      <th>2</th>\n",
       "      <td>19292</td>\n",
       "      <td>BOGOTA</td>\n",
       "      <td>CUNDINAMARCA</td>\n",
       "      <td>NaN</td>\n",
       "      <td>CL 72 No. 12 - 77</td>\n",
       "      <td>0.00</td>\n",
       "      <td>0.0</td>\n",
       "      <td>COMERCIALIZABLE VENTA ANTICIPADA</td>\n",
       "      <td>COMERCIAL</td>\n",
       "      <td>1.646059e+10</td>\n",
       "      <td>EDIFICIO</td>\n",
       "      <td>NaN</td>\n",
       "      <td>CARO</td>\n",
       "    </tr>\n",
       "    <tr>\n",
       "      <th>3</th>\n",
       "      <td>2575</td>\n",
       "      <td>SOGAMOSO</td>\n",
       "      <td>BOYACÁ</td>\n",
       "      <td>CENTRO</td>\n",
       "      <td>CRA. 10 #11- 78/80 Ó CL 12 # 9 - 77/85 Ó CALLE...</td>\n",
       "      <td>1655.08</td>\n",
       "      <td>7269.0</td>\n",
       "      <td>COMERCIALIZABLE CON RESTRICCION</td>\n",
       "      <td>CUATRO</td>\n",
       "      <td>1.376828e+10</td>\n",
       "      <td>CLINICA</td>\n",
       "      <td>ESTE INMUEBLE SE COMERCIALIZARÁ A TRAVÉS DE SU...</td>\n",
       "      <td>CARO</td>\n",
       "    </tr>\n",
       "    <tr>\n",
       "      <th>4</th>\n",
       "      <td>11409</td>\n",
       "      <td>BUGA</td>\n",
       "      <td>VALLE DEL CAUCA</td>\n",
       "      <td>VEREDA CHAMBIMBAL</td>\n",
       "      <td>LT A1-A24 B1-B79 C1-C51 D1-D9 STA ROSA LT1-46 ...</td>\n",
       "      <td>3217197.00</td>\n",
       "      <td>22724.0</td>\n",
       "      <td>COMERCIALIZABLE FIDUCIA</td>\n",
       "      <td>RURAL</td>\n",
       "      <td>4.523379e+10</td>\n",
       "      <td>LOTE MIXTO</td>\n",
       "      <td>NaN</td>\n",
       "      <td>CARO</td>\n",
       "    </tr>\n",
       "  </tbody>\n",
       "</table>\n",
       "</div>"
      ],
      "text/plain": [
       "   Codigo    Ciudad     Departamento             Barrio  \\\n",
       "0   17180    BOGOTA     CUNDINAMARCA                NaN   \n",
       "1   19292    BOGOTA     CUNDINAMARCA                NaN   \n",
       "2   19292    BOGOTA     CUNDINAMARCA                NaN   \n",
       "3    2575  SOGAMOSO           BOYACÁ             CENTRO   \n",
       "4   11409      BUGA  VALLE DEL CAUCA  VEREDA CHAMBIMBAL   \n",
       "\n",
       "                                           Direccion  Area Terreno  \\\n",
       "0                          AV CR 7 NO. 166 - 51 LT B          0.00   \n",
       "1                                  CL 72 No. 12 - 77          0.00   \n",
       "2                                  CL 72 No. 12 - 77          0.00   \n",
       "3  CRA. 10 #11- 78/80 Ó CL 12 # 9 - 77/85 Ó CALLE...       1655.08   \n",
       "4  LT A1-A24 B1-B79 C1-C51 D1-D9 STA ROSA LT1-46 ...    3217197.00   \n",
       "\n",
       "   Area Construida            Detalle Disponibilidad    Estrato        Precio  \\\n",
       "0              0.0   COMERCIALIZABLE CON RESTRICCION       TRES  2.958081e+10   \n",
       "1              0.0                   COMERCIALIZABLE  COMERCIAL  1.646059e+10   \n",
       "2              0.0  COMERCIALIZABLE VENTA ANTICIPADA  COMERCIAL  1.646059e+10   \n",
       "3           7269.0   COMERCIALIZABLE CON RESTRICCION     CUATRO  1.376828e+10   \n",
       "4          22724.0           COMERCIALIZABLE FIDUCIA      RURAL  4.523379e+10   \n",
       "\n",
       "  Tipo de Inmueble                                  Datos Adicionales  \\\n",
       "0   LOTE COMERCIAL  ESTE INMUEBLE SE COMERCIALIZARÁ A TRAVES DE SU...   \n",
       "1         EDIFICIO                                                NaN   \n",
       "2         EDIFICIO                                                NaN   \n",
       "3          CLINICA  ESTE INMUEBLE SE COMERCIALIZARÁ A TRAVÉS DE SU...   \n",
       "4       LOTE MIXTO                                                NaN   \n",
       "\n",
       "  Rango_precio  \n",
       "0         CARO  \n",
       "1         CARO  \n",
       "2         CARO  \n",
       "3         CARO  \n",
       "4         CARO  "
      ]
     },
     "execution_count": 12,
     "metadata": {},
     "output_type": "execute_result"
    }
   ],
   "source": [
    "rango = [4650000, 12300000, 15870000, 137700000, 667000000, 45330000000]\n",
    "rango_precios = ['BAJO', 'MEDIANO', 'ALTO', 'ELEVADO', 'CARO']\n",
    "df['Rango_precio'] = pd.cut(df['Precio'], rango, labels= rango_precios)\n",
    "df.head(5)"
   ]
  },
  {
   "cell_type": "code",
   "execution_count": 13,
   "metadata": {},
   "outputs": [
    {
     "data": {
      "text/plain": [
       "Rango_precio\n",
       "MEDIANO    140\n",
       "ALTO       115\n",
       "BAJO        91\n",
       "CARO        61\n",
       "ELEVADO     55\n",
       "Name: count, dtype: int64"
      ]
     },
     "execution_count": 13,
     "metadata": {},
     "output_type": "execute_result"
    }
   ],
   "source": [
    "df['Rango_precio'].value_counts()"
   ]
  },
  {
   "cell_type": "code",
   "execution_count": 14,
   "metadata": {},
   "outputs": [
    {
     "data": {
      "image/png": "[encoded data removed]",
      "text/plain": [
       "<Figure size 640x480 with 1 Axes>"
      ]
     },
     "metadata": {},
     "output_type": "display_data"
    }
   ],
   "source": [
    "sns.histplot(df.Precio, color= 'r', bins= 30, kde= True)\n",
    "plt.show()"
   ]
  },
  {
   "cell_type": "code",
   "execution_count": 15,
   "metadata": {},
   "outputs": [
    {
     "name": "stderr",
     "output_type": "stream",
     "text": [
      "C:\\Users\\Germa\\AppData\\Local\\Temp\\ipykernel_5728\\3460736844.py:1: FutureWarning: The default of observed=False is deprecated and will be changed to True in a future version of pandas. Pass observed=False to retain current behavior or observed=True to adopt the future default and silence this warning.\n",
      "  total_rango_precio = df['Rango_precio'].groupby(df['Rango_precio']).count()\n"
     ]
    },
    {
     "data": {
      "image/png": "[encoded data removed]",
      "text/plain": [
       "<Figure size 640x480 with 1 Axes>"
      ]
     },
     "metadata": {},
     "output_type": "display_data"
    }
   ],
   "source": [
    "total_rango_precio = df['Rango_precio'].groupby(df['Rango_precio']).count()\n",
    "labels = ['BAJO', 'MEDIANO', 'ALTO', 'ELEVADO', 'CARO']\n",
    "colors = sns.color_palette('Set2')[0:5]\n",
    "plt.pie(total_rango_precio, labels= labels, colors= colors, autopct= '%.1f%%')\n",
    "plt.show()"
   ]
  },
  {
   "cell_type": "code",
   "execution_count": 16,
   "metadata": {},
   "outputs": [
    {
     "data": {
      "image/png": "[encoded data removed]",
      "text/plain": [
       "<Figure size 640x480 with 1 Axes>"
      ]
     },
     "metadata": {},
     "output_type": "display_data"
    }
   ],
   "source": [
    "rango_precio_estarto = sns.boxplot(x= df['Rango_precio'], y= df['Precio'])"
   ]
  },
  {
   "cell_type": "code",
   "execution_count": 17,
   "metadata": {},
   "outputs": [
    {
     "data": {
      "text/plain": [
       "<Axes: xlabel='Rango_precio', ylabel='Precio'>"
      ]
     },
     "execution_count": 17,
     "metadata": {},
     "output_type": "execute_result"
    },
    {
     "data": {
      "image/png": "[encoded data removed]",
      "text/plain": [
       "<Figure size 640x480 with 1 Axes>"
      ]
     },
     "metadata": {},
     "output_type": "display_data"
    }
   ],
   "source": [
    "sns.barplot(data= df, x= 'Rango_precio', y= 'Precio', hue= 'Estrato')\n"
   ]
  },
  {
   "cell_type": "code",
   "execution_count": null,
   "metadata": {},
   "outputs": [],
   "source": []
  }
 ],
 "metadata": {
  "kernelspec": {
   "display_name": "Python 3",
   "language": "python",
   "name": "python3"
  },
  "language_info": {
   "codemirror_mode": {
    "name": "ipython",
    "version": 3
   },
   "file_extension": ".py",
   "mimetype": "text/x-python",
   "name": "python",
   "nbconvert_exporter": "python",
   "pygments_lexer": "ipython3",
   "version": "3.12.6"
  }
 },
 "nbformat": 4,
 "nbformat_minor": 2
}
